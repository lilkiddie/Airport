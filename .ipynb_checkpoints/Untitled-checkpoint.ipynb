{
 "cells": [
  {
   "cell_type": "code",
   "execution_count": 10,
   "id": "5aa9c780-f37e-4466-b1b8-abc309c2f524",
   "metadata": {},
   "outputs": [
    {
     "name": "stdout",
     "output_type": "stream",
     "text": [
      "Experiment ticks\n",
      "Airport ticks\n",
      "Aircraft S-0712 ticks\n",
      "Handler ticks\n",
      "Runway 1 ticks\n",
      "Runway 2 ticks\n",
      "Runway 3 ticks\n",
      "Runway 4 ticks\n",
      "Runway 5 ticks\n",
      "Aircraft(name='Boeing-737',\n",
      "         flight_number='S-0712',\n",
      "         type=<AircraftType.medium: 'medium'>,\n",
      "         status=<FlightStatus.processing: 2>,\n",
      "         _ticks=8)\n",
      "\n",
      "Aircraft S-1712 ticks\n",
      "Aircraft(name='Boeing-737',\n",
      "         flight_number='S-1712',\n",
      "         type=<AircraftType.medium: 'medium'>,\n",
      "         status=<FlightStatus.ok: 1>,\n",
      "         _ticks=8)\n",
      "\n",
      "Aircraft S-1312 ticks\n",
      "Aircraft(name='Boeing-777',\n",
      "         flight_number='S-1312',\n",
      "         type=<AircraftType.heavy: 'heavy'>,\n",
      "         status=<FlightStatus.ok: 1>,\n",
      "         _ticks=8)\n",
      "\n",
      "{'S-0712': Flight(number='S-0712',\n",
      "                  date=datetime.datetime(2024, 1, 1, 0, 0, 25),\n",
      "                  status=<FlightStatus.processing: 2>,\n",
      "                  type=<FlightType.landing: 1>,\n",
      "                  date_ticks=25),\n",
      " 'S-1312': Flight(number='S-1312',\n",
      "                  date=datetime.datetime(2024, 1, 1, 13, 50),\n",
      "                  status=<FlightStatus.ok: 1>,\n",
      "                  type=<FlightType.landing: 1>,\n",
      "                  date_ticks=49800),\n",
      " 'S-1712': Flight(number='S-1712',\n",
      "                  date=datetime.datetime(2024, 1, 1, 0, 0, 40),\n",
      "                  status=<FlightStatus.ok: 1>,\n",
      "                  type=<FlightType.take_off: 2>,\n",
      "                  date_ticks=40)}\n",
      "\n"
     ]
    }
   ],
   "source": [
    "experiment()"
   ]
  },
  {
   "cell_type": "code",
   "execution_count": 1,
   "id": "045efcb3-61e9-48d6-89c8-acabf234e337",
   "metadata": {},
   "outputs": [],
   "source": [
    "from common.structs.airport import Airport\n",
    "from utils.flight_board import get_flight_boards_from_csv\n",
    "from random import choices, randint\n",
    "import pprint\n",
    "\n",
    "N_RUNWAYS = 1\n",
    "\n",
    "\n",
    "class Experiment:\n",
    "    def __init__(self, filepath: str, airport_name: str = 'Test', n_runways: int = 5):\n",
    "        flight_board, aircrafts = get_flight_boards_from_csv(filepath)\n",
    "        self.airport = Airport(airport_name, flight_board, aircrafts, n_runways)\n",
    "        self._ticks = 0\n",
    "        self._history = []\n",
    "\n",
    "    def __call__(self):\n",
    "        print(f'{self.__class__.__name__} ticks')\n",
    "        self.airport()\n",
    "        self._ticks += 1\n"
   ]
  },
  {
   "cell_type": "code",
   "execution_count": 2,
   "id": "34febca3-c45a-4aff-9c8e-de8700d298b4",
   "metadata": {},
   "outputs": [],
   "source": [
    "experiment = Experiment('test.csv',  'test', N_RUNWAYS)"
   ]
  },
  {
   "cell_type": "code",
   "execution_count": 37,
   "id": "8e6f0cf4-41b1-46e4-a0d4-08c768ff3379",
   "metadata": {},
   "outputs": [
    {
     "name": "stdout",
     "output_type": "stream",
     "text": [
      "Experiment ticks\n",
      "Airport ticks\n",
      "Aircraft S-0712 ticks\n",
      "Aircraft(name='Boeing-737',\n",
      "         flight_number='S-0712',\n",
      "         type=<AircraftType.medium: 'medium'>,\n",
      "         status=<FlightStatus.delayed: 3>,\n",
      "         _ticks=7)\n",
      "\n",
      "Aircraft S-1712 ticks\n",
      "Aircraft(name='Boeing-737',\n",
      "         flight_number='S-1712',\n",
      "         type=<AircraftType.medium: 'medium'>,\n",
      "         status=<FlightStatus.ok: 1>,\n",
      "         _ticks=7)\n",
      "\n",
      "Aircraft S-1312 ticks\n",
      "Aircraft(name='Boeing-777',\n",
      "         flight_number='S-1312',\n",
      "         type=<AircraftType.heavy: 'heavy'>,\n",
      "         status=<FlightStatus.ok: 1>,\n",
      "         _ticks=7)\n",
      "\n",
      "{'S-0712': Flight(number='S-0712',\n",
      "                  date=datetime.datetime(2024, 1, 1, 0, 0, 25),\n",
      "                  status=<FlightStatus.delayed: 3>,\n",
      "                  type=<FlightType.landing: 1>,\n",
      "                  date_ticks=65),\n",
      " 'S-1312': Flight(number='S-1312',\n",
      "                  date=datetime.datetime(2024, 1, 1, 13, 50),\n",
      "                  status=<FlightStatus.ok: 1>,\n",
      "                  type=<FlightType.landing: 1>,\n",
      "                  date_ticks=49800),\n",
      " 'S-1712': Flight(number='S-1712',\n",
      "                  date=datetime.datetime(2024, 1, 1, 0, 0, 40),\n",
      "                  status=<FlightStatus.ok: 1>,\n",
      "                  type=<FlightType.take_off: 2>,\n",
      "                  date_ticks=40)}\n",
      "\n"
     ]
    }
   ],
   "source": [
    "experiment()"
   ]
  },
  {
   "cell_type": "code",
   "execution_count": null,
   "id": "e90bd1a2-ba56-4e08-af65-e119a6774e07",
   "metadata": {},
   "outputs": [],
   "source": []
  }
 ],
 "metadata": {
  "kernelspec": {
   "display_name": "env",
   "language": "python",
   "name": "env"
  },
  "language_info": {
   "codemirror_mode": {
    "name": "ipython",
    "version": 3
   },
   "file_extension": ".py",
   "mimetype": "text/x-python",
   "name": "python",
   "nbconvert_exporter": "python",
   "pygments_lexer": "ipython3",
   "version": "3.10.12"
  }
 },
 "nbformat": 4,
 "nbformat_minor": 5
}
