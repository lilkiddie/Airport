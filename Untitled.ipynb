{
 "cells": [
  {
   "cell_type": "code",
   "execution_count": 100,
   "id": "5aa9c780-f37e-4466-b1b8-abc309c2f524",
   "metadata": {},
   "outputs": [
    {
     "name": "stdout",
     "output_type": "stream",
     "text": [
      "Experiment ticks\n",
      "Airport ticks\n",
      "Aircraft S-0712 ticks\n",
      "Aircraft S-1712 ticks\n",
      "Handler ticks\n",
      "Runway 1 ticks\n",
      "{'S-0712': Flight(number='S-0712',\n",
      "                  date=datetime.datetime(2024, 1, 1, 0, 0, 11),\n",
      "                  status=<FlightStatus.done: 4>,\n",
      "                  type=<FlightType.landing: 1>,\n",
      "                  date_ticks=11),\n",
      " 'S-1712': Flight(number='S-1712',\n",
      "                  date=datetime.datetime(2024, 1, 1, 0, 0, 14),\n",
      "                  status=<FlightStatus.done: 4>,\n",
      "                  type=<FlightType.take_off: 2>,\n",
      "                  date_ticks=22)}\n",
      "\n"
     ]
    }
   ],
   "source": [
    "experiment()"
   ]
  },
  {
   "cell_type": "code",
   "execution_count": 4,
   "id": "4034795e-152f-44e6-8fd0-b2693fc035f2",
   "metadata": {},
   "outputs": [
    {
     "data": {
      "text/plain": [
       "deque([], maxlen=100)"
      ]
     },
     "execution_count": 4,
     "metadata": {},
     "output_type": "execute_result"
    }
   ],
   "source": [
    "experiment.airport.handler.runways[1].queue.queue"
   ]
  },
  {
   "cell_type": "code",
   "execution_count": 25,
   "id": "0b2bcfb5-1e93-4c22-ba10-2b606e520f59",
   "metadata": {},
   "outputs": [
    {
     "data": {
      "text/plain": [
       "Aircraft(name='Boeing-737', flight_number='S-0712', type=<AircraftType.medium: 'medium'>, status=<FlightStatus.processing: 2>, process_ticks=21, queue_id=1, _ticks=22)"
      ]
     },
     "execution_count": 25,
     "metadata": {},
     "output_type": "execute_result"
    }
   ],
   "source": [
    "experiment.airport.aircrafts[0]"
   ]
  },
  {
   "cell_type": "code",
   "execution_count": 76,
   "id": "045efcb3-61e9-48d6-89c8-acabf234e337",
   "metadata": {},
   "outputs": [],
   "source": [
    "from common.structs.airport import Airport\n",
    "from utils.flight_board import get_flight_boards_from_csv\n",
    "from random import choices, randint\n",
    "import pprint\n",
    "\n",
    "N_RUNWAYS = 1\n",
    "\n",
    "\n",
    "class Experiment:\n",
    "    def __init__(self, filepath: str, airport_name: str = 'Test', n_runways: int = 5):\n",
    "        flight_board, aircrafts = get_flight_boards_from_csv(filepath)\n",
    "        self.airport = Airport(airport_name, flight_board, aircrafts, n_runways)\n",
    "        self._ticks = 0\n",
    "        self._history = []\n",
    "\n",
    "    def __call__(self):\n",
    "        print(f'{self.__class__.__name__} ticks')\n",
    "        self.airport()\n",
    "        self._ticks += 1\n"
   ]
  },
  {
   "cell_type": "code",
   "execution_count": 77,
   "id": "34febca3-c45a-4aff-9c8e-de8700d298b4",
   "metadata": {},
   "outputs": [],
   "source": [
    "experiment = Experiment('test.csv',  'test', N_RUNWAYS)"
   ]
  },
  {
   "cell_type": "code",
   "execution_count": null,
   "id": "474c7dbd-a2af-4d3d-a0ea-4f9812054136",
   "metadata": {},
   "outputs": [],
   "source": []
  }
 ],
 "metadata": {
  "kernelspec": {
   "display_name": "env",
   "language": "python",
   "name": "env"
  },
  "language_info": {
   "codemirror_mode": {
    "name": "ipython",
    "version": 3
   },
   "file_extension": ".py",
   "mimetype": "text/x-python",
   "name": "python",
   "nbconvert_exporter": "python",
   "pygments_lexer": "ipython3",
   "version": "3.10.12"
  }
 },
 "nbformat": 4,
 "nbformat_minor": 5
}
