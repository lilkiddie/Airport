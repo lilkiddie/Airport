{
 "cells": [
  {
   "cell_type": "code",
   "execution_count": 100,
   "id": "5aa9c780-f37e-4466-b1b8-abc309c2f524",
   "metadata": {},
   "outputs": [
    {
     "name": "stdout",
     "output_type": "stream",
     "text": [
      "Experiment ticks\n",
      "Airport ticks\n",
      "Aircraft S-0712 ticks\n",
      "Aircraft S-1712 ticks\n",
      "Handler ticks\n",
      "Runway 1 ticks\n",
      "{'S-0712': Flight(number='S-0712',\n",
      "                  date=datetime.datetime(2024, 1, 1, 0, 0, 11),\n",
      "                  status=<FlightStatus.done: 4>,\n",
      "                  type=<FlightType.landing: 1>,\n",
      "                  date_ticks=11),\n",
      " 'S-1712': Flight(number='S-1712',\n",
      "                  date=datetime.datetime(2024, 1, 1, 0, 0, 14),\n",
      "                  status=<FlightStatus.done: 4>,\n",
      "                  type=<FlightType.take_off: 2>,\n",
      "                  date_ticks=22)}\n",
      "\n"
     ]
    }
   ],
   "source": [
    "experiment()"
   ]
  },
  {
   "cell_type": "code",
   "execution_count": 4,
   "id": "4034795e-152f-44e6-8fd0-b2693fc035f2",
   "metadata": {},
   "outputs": [
    {
     "data": {
      "text/plain": [
       "deque([], maxlen=100)"
      ]
     },
     "execution_count": 4,
     "metadata": {},
     "output_type": "execute_result"
    }
   ],
   "source": [
    "experiment.airport.handler.runways[1].queue.queue"
   ]
  },
  {
   "cell_type": "code",
   "execution_count": 25,
   "id": "0b2bcfb5-1e93-4c22-ba10-2b606e520f59",
   "metadata": {},
   "outputs": [
    {
     "data": {
      "text/plain": [
       "Aircraft(name='Boeing-737', flight_number='S-0712', type=<AircraftType.medium: 'medium'>, status=<FlightStatus.processing: 2>, process_ticks=21, queue_id=1, _ticks=22)"
      ]
     },
     "execution_count": 25,
     "metadata": {},
     "output_type": "execute_result"
    }
   ],
   "source": [
    "experiment.airport.aircrafts[0]"
   ]
  },
  {
   "cell_type": "code",
   "execution_count": 76,
   "id": "045efcb3-61e9-48d6-89c8-acabf234e337",
   "metadata": {},
   "outputs": [],
   "source": [
    "from common.structs.airport import Airport\n",
    "from utils.flight_board import get_flight_boards_from_csv\n",
    "from random import choices, randint\n",
    "import pprint\n",
    "\n",
    "N_RUNWAYS = 1\n",
    "\n",
    "\n",
    "class Experiment:\n",
    "    def __init__(self, filepath: str, airport_name: str = 'Test', n_runways: int = 5):\n",
    "        flight_board, aircrafts = get_flight_boards_from_csv(filepath)\n",
    "        self.airport = Airport(airport_name, flight_board, aircrafts, n_runways)\n",
    "        self._ticks = 0\n",
    "        self._history = []\n",
    "\n",
    "    def __call__(self):\n",
    "        print(f'{self.__class__.__name__} ticks')\n",
    "        self.airport()\n",
    "        self._ticks += 1\n"
   ]
  },
  {
   "cell_type": "code",
   "execution_count": 77,
   "id": "34febca3-c45a-4aff-9c8e-de8700d298b4",
   "metadata": {},
   "outputs": [],
   "source": [
    "experiment = Experiment('test.csv',  'test', N_RUNWAYS)"
   ]
  },
  {
   "cell_type": "code",
   "execution_count": null,
   "id": "474c7dbd-a2af-4d3d-a0ea-4f9812054136",
   "metadata": {},
   "outputs": [],
   "source": []
  },
  {
   "cell_type": "code",
   "execution_count": 3,
   "id": "72be0522-006e-490e-8ebc-330ad2471c95",
   "metadata": {},
   "outputs": [],
   "source": [
    "from datetime import time"
   ]
  },
  {
   "cell_type": "code",
   "execution_count": 9,
   "id": "37ec8a9d-babe-48f6-8181-1d087190a60a",
   "metadata": {},
   "outputs": [],
   "source": [
    "from operator import iconcat"
   ]
  },
  {
   "cell_type": "code",
   "execution_count": 24,
   "id": "19f119f2-f0c5-4948-b9ac-18805a7020a9",
   "metadata": {},
   "outputs": [],
   "source": [
    "def increment(x):\n",
    "    def inner():\n",
    "        global x\n",
    "        x += 1\n",
    "    return inner"
   ]
  },
  {
   "cell_type": "code",
   "execution_count": 29,
   "id": "2b76b1e1-0b77-41cc-b47e-91b9a562b932",
   "metadata": {},
   "outputs": [],
   "source": [
    "x = 1\n",
    "increment(x)()"
   ]
  },
  {
   "cell_type": "code",
   "execution_count": 30,
   "id": "428444ba-cabb-4fdd-bbcf-578adc50e940",
   "metadata": {},
   "outputs": [
    {
     "data": {
      "text/plain": [
       "2"
      ]
     },
     "execution_count": 30,
     "metadata": {},
     "output_type": "execute_result"
    }
   ],
   "source": [
    "x"
   ]
  },
  {
   "cell_type": "code",
   "execution_count": 16,
   "id": "9489d452-c196-462f-af62-a6b5adc00b98",
   "metadata": {},
   "outputs": [],
   "source": [
    "import matplotlib.pyplot as plt\n",
    "from matplotlib.figure import Figure\n",
    "from matplotlib.backends.backend_tkagg import FigureCanvasTkAgg\n"
   ]
  },
  {
   "cell_type": "code",
   "execution_count": 54,
   "id": "3331eab2-33db-48a2-b6b8-808f6a8dfac5",
   "metadata": {},
   "outputs": [
    {
     "data": {
      "text/plain": [
       "<BarContainer object of 1 artists>"
      ]
     },
     "execution_count": 54,
     "metadata": {},
     "output_type": "execute_result"
    },
    {
     "data": {
      "image/png": "[encoded data removed]",
      "text/plain": [
       "<Figure size 250x230 with 1 Axes>"
      ]
     },
     "metadata": {},
     "output_type": "display_data"
    }
   ],
   "source": [
    "fig = plt.figure(figsize=(2.5, 2.3))\n",
    "ax = fig.add_subplot()\n",
    "ax.set_xticks([1])\n",
    "ax.set_yticks([1, 2, 3, 4, 5, 6, 7])\n",
    "plt.ylim(0,7)\n",
    "plt.bar([1], [3], width=10)"
   ]
  },
  {
   "cell_type": "code",
   "execution_count": 15,
   "id": "54266787-0a71-43b1-a3a3-ddafcf449821",
   "metadata": {},
   "outputs": [
    {
     "data": {
      "image/png": "[encoded data removed]",
      "text/plain": [
       "<Figure size 640x480 with 1 Axes>"
      ]
     },
     "metadata": {},
     "output_type": "display_data"
    }
   ],
   "source": [
    "data = [1, 0, 3, 2, 5]\n",
    "bar = plt.bar([1, 2, 3, 4, 5], data)"
   ]
  }
 ],
 "metadata": {
  "kernelspec": {
   "display_name": "env",
   "language": "python",
   "name": "env"
  },
  "language_info": {
   "codemirror_mode": {
    "name": "ipython",
    "version": 3
   },
   "file_extension": ".py",
   "mimetype": "text/x-python",
   "name": "python",
   "nbconvert_exporter": "python",
   "pygments_lexer": "ipython3",
   "version": "3.10.12"
  }
 },
 "nbformat": 4,
 "nbformat_minor": 5
}
